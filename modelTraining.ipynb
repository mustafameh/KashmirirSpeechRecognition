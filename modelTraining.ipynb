{
 "cells": [
  {
   "cell_type": "code",
   "execution_count": 4,
   "metadata": {},
   "outputs": [],
   "source": [
    "import numpy as np"
   ]
  },
  {
   "cell_type": "code",
   "execution_count": 5,
   "metadata": {},
   "outputs": [],
   "source": [
    "data = np.load('features_labels.npz')\n",
    "features = data['features']\n",
    "labels = data['labels']\n",
    "\n",
    "features = np.array(features)\n",
    "features = np.reshape(features, (features.shape[0], features.shape[1], 1))\n"
   ]
  },
  {
   "cell_type": "code",
   "execution_count": 6,
   "metadata": {},
   "outputs": [
    {
     "name": "stdout",
     "output_type": "stream",
     "text": [
      "Epoch 1/50\n",
      "651/651 [==============================] - 26s 35ms/step - loss: 8.5766 - accuracy: 1.4409e-04\n",
      "Epoch 2/50\n",
      "651/651 [==============================] - 24s 37ms/step - loss: 8.1065 - accuracy: 3.8425e-04\n",
      "Epoch 3/50\n",
      "651/651 [==============================] - 22s 35ms/step - loss: 6.7205 - accuracy: 0.0093\n",
      "Epoch 4/50\n",
      "651/651 [==============================] - 23s 35ms/step - loss: 5.1849 - accuracy: 0.0514\n",
      "Epoch 5/50\n",
      "651/651 [==============================] - 23s 35ms/step - loss: 3.9249 - accuracy: 0.1401\n",
      "Epoch 6/50\n",
      "651/651 [==============================] - 23s 35ms/step - loss: 2.9439 - accuracy: 0.2678\n",
      "Epoch 7/50\n",
      "651/651 [==============================] - 24s 36ms/step - loss: 2.2409 - accuracy: 0.3963\n",
      "Epoch 8/50\n",
      "651/651 [==============================] - 23s 35ms/step - loss: 1.7160 - accuracy: 0.5118\n",
      "Epoch 9/50\n",
      "651/651 [==============================] - 22s 34ms/step - loss: 1.3433 - accuracy: 0.6120\n",
      "Epoch 10/50\n",
      "651/651 [==============================] - 22s 34ms/step - loss: 1.0495 - accuracy: 0.6925\n",
      "Epoch 11/50\n",
      "651/651 [==============================] - 22s 34ms/step - loss: 0.8576 - accuracy: 0.7491\n",
      "Epoch 12/50\n",
      "651/651 [==============================] - 22s 34ms/step - loss: 0.7124 - accuracy: 0.7867\n",
      "Epoch 13/50\n",
      "651/651 [==============================] - 22s 34ms/step - loss: 0.6058 - accuracy: 0.8176\n",
      "Epoch 14/50\n",
      "651/651 [==============================] - 22s 34ms/step - loss: 0.4951 - accuracy: 0.8541\n",
      "Epoch 15/50\n",
      "651/651 [==============================] - 23s 35ms/step - loss: 0.4585 - accuracy: 0.8602\n",
      "Epoch 16/50\n",
      "651/651 [==============================] - 22s 34ms/step - loss: 0.4047 - accuracy: 0.8807\n",
      "Epoch 17/50\n",
      "651/651 [==============================] - 22s 34ms/step - loss: 0.3533 - accuracy: 0.8943\n",
      "Epoch 18/50\n",
      "651/651 [==============================] - 23s 35ms/step - loss: 0.3244 - accuracy: 0.9043\n",
      "Epoch 19/50\n",
      "651/651 [==============================] - 23s 35ms/step - loss: 0.3102 - accuracy: 0.9076\n",
      "Epoch 20/50\n",
      "651/651 [==============================] - 22s 35ms/step - loss: 0.2771 - accuracy: 0.9165\n",
      "Epoch 21/50\n",
      "651/651 [==============================] - 22s 33ms/step - loss: 0.2393 - accuracy: 0.9283\n",
      "Epoch 22/50\n",
      "651/651 [==============================] - 22s 34ms/step - loss: 0.2210 - accuracy: 0.9337\n",
      "Epoch 23/50\n",
      "651/651 [==============================] - 23s 35ms/step - loss: 0.2393 - accuracy: 0.9254\n",
      "Epoch 24/50\n",
      "651/651 [==============================] - 22s 34ms/step - loss: 0.2046 - accuracy: 0.9378\n",
      "Epoch 25/50\n",
      "651/651 [==============================] - 21s 33ms/step - loss: 0.1921 - accuracy: 0.9429\n",
      "Epoch 26/50\n",
      "651/651 [==============================] - 22s 35ms/step - loss: 0.1824 - accuracy: 0.9425\n",
      "Epoch 27/50\n",
      "651/651 [==============================] - 21s 33ms/step - loss: 0.1740 - accuracy: 0.9468\n",
      "Epoch 28/50\n",
      "651/651 [==============================] - 22s 34ms/step - loss: 0.1818 - accuracy: 0.9445\n",
      "Epoch 29/50\n",
      "651/651 [==============================] - 21s 33ms/step - loss: 0.1643 - accuracy: 0.9508\n",
      "Epoch 30/50\n",
      "651/651 [==============================] - 21s 33ms/step - loss: 0.1541 - accuracy: 0.9533\n",
      "Epoch 31/50\n",
      "651/651 [==============================] - 21s 33ms/step - loss: 0.1380 - accuracy: 0.9575\n",
      "Epoch 32/50\n",
      "651/651 [==============================] - 21s 33ms/step - loss: 0.1470 - accuracy: 0.9548\n",
      "Epoch 33/50\n",
      "651/651 [==============================] - 21s 33ms/step - loss: 0.1361 - accuracy: 0.9581\n",
      "Epoch 34/50\n",
      "651/651 [==============================] - 21s 33ms/step - loss: 0.1332 - accuracy: 0.9616\n",
      "Epoch 35/50\n",
      "651/651 [==============================] - 21s 33ms/step - loss: 0.1227 - accuracy: 0.9626\n",
      "Epoch 36/50\n",
      "651/651 [==============================] - 21s 33ms/step - loss: 0.1232 - accuracy: 0.9625\n",
      "Epoch 37/50\n",
      "651/651 [==============================] - 21s 33ms/step - loss: 0.1143 - accuracy: 0.9638\n",
      "Epoch 38/50\n",
      "651/651 [==============================] - 21s 33ms/step - loss: 0.1244 - accuracy: 0.9637\n",
      "Epoch 39/50\n",
      "651/651 [==============================] - 21s 33ms/step - loss: 0.1090 - accuracy: 0.9671\n",
      "Epoch 40/50\n",
      "651/651 [==============================] - 21s 33ms/step - loss: 0.0940 - accuracy: 0.9713\n",
      "Epoch 41/50\n",
      "651/651 [==============================] - 21s 33ms/step - loss: 0.1025 - accuracy: 0.9688\n",
      "Epoch 42/50\n",
      "651/651 [==============================] - 21s 33ms/step - loss: 0.1100 - accuracy: 0.9667\n",
      "Epoch 43/50\n",
      "651/651 [==============================] - 21s 33ms/step - loss: 0.1008 - accuracy: 0.9680\n",
      "Epoch 44/50\n",
      "651/651 [==============================] - 21s 33ms/step - loss: 0.0988 - accuracy: 0.9699\n",
      "Epoch 45/50\n",
      "651/651 [==============================] - 21s 33ms/step - loss: 0.0806 - accuracy: 0.9744\n",
      "Epoch 46/50\n",
      "651/651 [==============================] - 21s 33ms/step - loss: 0.0978 - accuracy: 0.9701\n",
      "Epoch 47/50\n",
      "651/651 [==============================] - 21s 33ms/step - loss: 0.0927 - accuracy: 0.9713\n",
      "Epoch 48/50\n",
      "651/651 [==============================] - 21s 33ms/step - loss: 0.0800 - accuracy: 0.9751\n",
      "Epoch 49/50\n",
      "651/651 [==============================] - 21s 33ms/step - loss: 0.0898 - accuracy: 0.9721\n",
      "Epoch 50/50\n",
      "651/651 [==============================] - 21s 33ms/step - loss: 0.0831 - accuracy: 0.9753\n"
     ]
    },
    {
     "data": {
      "text/plain": [
       "<keras.callbacks.History at 0x19bcfc01310>"
      ]
     },
     "execution_count": 6,
     "metadata": {},
     "output_type": "execute_result"
    }
   ],
   "source": [
    "from tensorflow.keras.models import Sequential\n",
    "from tensorflow.keras.layers import Dense, LSTM, Dropout, Conv1D, MaxPooling1D\n",
    "\n",
    "model = Sequential()\n",
    "\n",
    "# Add a 1D Convolutional layer first. The first parameter is the number of filters,\n",
    "# and the second one is the kernel size. \n",
    "model.add(Conv1D(128, 3, activation='relu', input_shape=(40, 1)))\n",
    "\n",
    "# Add a max pooling layer, if you'd like\n",
    "model.add(MaxPooling1D(pool_size=2))\n",
    "\n",
    "# Then we can add the LSTM layers as you have before\n",
    "model.add(LSTM(128, return_sequences=True))\n",
    "model.add(Dropout(0.2))\n",
    "model.add(LSTM(128))\n",
    "model.add(Dense(64))\n",
    "model.add(Dense(len(set(labels)), activation='softmax'))\n",
    "\n",
    "# Compile the model\n",
    "model.compile(loss='sparse_categorical_crossentropy', \n",
    "              optimizer='adam', \n",
    "              metrics=['accuracy'])\n",
    "\n",
    "# Convert labels to integer format\n",
    "label_dict = {label: i for i, label in enumerate(set(labels))}\n",
    "int_labels = [label_dict[label] for label in labels]\n",
    "\n",
    "# Train the model\n",
    "model.fit(np.array(features), np.array(int_labels), epochs=50)"
   ]
  },
  {
   "cell_type": "code",
   "execution_count": 1,
   "metadata": {},
   "outputs": [
    {
     "ename": "NameError",
     "evalue": "name 'model' is not defined",
     "output_type": "error",
     "traceback": [
      "\u001b[1;31m---------------------------------------------------------------------------\u001b[0m",
      "\u001b[1;31mNameError\u001b[0m                                 Traceback (most recent call last)",
      "Cell \u001b[1;32mIn[1], line 1\u001b[0m\n\u001b[1;32m----> 1\u001b[0m model\u001b[39m.\u001b[39msave(\u001b[39m'\u001b[39m\u001b[39mModel1.h5\u001b[39m\u001b[39m'\u001b[39m)\n\u001b[0;32m      2\u001b[0m \u001b[39mimport\u001b[39;00m \u001b[39mjson\u001b[39;00m\n\u001b[0;32m      4\u001b[0m \u001b[39m# Save label_dict to a json file\u001b[39;00m\n",
      "\u001b[1;31mNameError\u001b[0m: name 'model' is not defined"
     ]
    }
   ],
   "source": [
    "model.save('Model1.h5')\n",
    "import json\n",
    "\n",
    "# Save label_dict to a json file\n",
    "with open('label_dict.json', 'w') as f:\n",
    "    json.dump(label_dict, f)"
   ]
  },
  {
   "cell_type": "code",
   "execution_count": null,
   "metadata": {},
   "outputs": [],
   "source": []
  }
 ],
 "metadata": {
  "kernelspec": {
   "display_name": "Python 3",
   "language": "python",
   "name": "python3"
  },
  "language_info": {
   "codemirror_mode": {
    "name": "ipython",
    "version": 3
   },
   "file_extension": ".py",
   "mimetype": "text/x-python",
   "name": "python",
   "nbconvert_exporter": "python",
   "pygments_lexer": "ipython3",
   "version": "3.11.2"
  },
  "orig_nbformat": 4
 },
 "nbformat": 4,
 "nbformat_minor": 2
}
