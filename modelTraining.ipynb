{
 "cells": [
  {
   "cell_type": "code",
   "execution_count": 8,
   "metadata": {},
   "outputs": [],
   "source": [
    "import numpy as np"
   ]
  },
  {
   "cell_type": "code",
   "execution_count": 1,
   "metadata": {},
   "outputs": [
    {
     "ename": "NameError",
     "evalue": "name 'np' is not defined",
     "output_type": "error",
     "traceback": [
      "\u001b[1;31m---------------------------------------------------------------------------\u001b[0m",
      "\u001b[1;31mNameError\u001b[0m                                 Traceback (most recent call last)",
      "Cell \u001b[1;32mIn[1], line 1\u001b[0m\n\u001b[1;32m----> 1\u001b[0m data \u001b[39m=\u001b[39m np\u001b[39m.\u001b[39mload(\u001b[39m'\u001b[39m\u001b[39mfeatures_labels.npz\u001b[39m\u001b[39m'\u001b[39m)\n\u001b[0;32m      2\u001b[0m features \u001b[39m=\u001b[39m data[\u001b[39m'\u001b[39m\u001b[39mfeatures\u001b[39m\u001b[39m'\u001b[39m]\n\u001b[0;32m      3\u001b[0m labels \u001b[39m=\u001b[39m data[\u001b[39m'\u001b[39m\u001b[39mlabels\u001b[39m\u001b[39m'\u001b[39m]\n",
      "\u001b[1;31mNameError\u001b[0m: name 'np' is not defined"
     ]
    }
   ],
   "source": [
    "data = np.load('features_labels.npz')\n",
    "features = data['features']\n",
    "labels = data['labels']\n",
    "\n",
    "features = np.array(features)\n",
    "features = np.reshape(features, (features.shape[0], features.shape[1], 1))\n"
   ]
  },
  {
   "cell_type": "code",
   "execution_count": 10,
   "metadata": {},
   "outputs": [
    {
     "name": "stdout",
     "output_type": "stream",
     "text": [
      "Epoch 1/50\n",
      "493/493 [==============================] - 31s 56ms/step - loss: 8.5807 - accuracy: 0.0000e+00\n",
      "Epoch 2/50\n",
      "493/493 [==============================] - 29s 58ms/step - loss: 8.5376 - accuracy: 2.5368e-04\n",
      "Epoch 3/50\n",
      "493/493 [==============================] - 29s 58ms/step - loss: 8.1921 - accuracy: 9.5129e-04\n",
      "Epoch 4/50\n",
      "493/493 [==============================] - 30s 60ms/step - loss: 7.4163 - accuracy: 0.0039\n",
      "Epoch 5/50\n",
      "493/493 [==============================] - 30s 62ms/step - loss: 6.4789 - accuracy: 0.0106\n",
      "Epoch 6/50\n",
      "493/493 [==============================] - 30s 61ms/step - loss: 5.6830 - accuracy: 0.0268\n",
      "Epoch 7/50\n",
      "493/493 [==============================] - 31s 62ms/step - loss: 5.0279 - accuracy: 0.0469\n",
      "Epoch 8/50\n",
      "493/493 [==============================] - 29s 59ms/step - loss: 4.4405 - accuracy: 0.0845\n",
      "Epoch 9/50\n",
      "493/493 [==============================] - 29s 58ms/step - loss: 3.8682 - accuracy: 0.1381\n",
      "Epoch 10/50\n",
      "493/493 [==============================] - 29s 58ms/step - loss: 3.3485 - accuracy: 0.2065\n",
      "Epoch 11/50\n",
      "493/493 [==============================] - 29s 58ms/step - loss: 2.8638 - accuracy: 0.2830\n",
      "Epoch 12/50\n",
      "493/493 [==============================] - 28s 58ms/step - loss: 2.4242 - accuracy: 0.3678\n",
      "Epoch 13/50\n",
      "493/493 [==============================] - 28s 58ms/step - loss: 2.0544 - accuracy: 0.4472\n",
      "Epoch 14/50\n",
      "493/493 [==============================] - 29s 58ms/step - loss: 1.7272 - accuracy: 0.5263\n",
      "Epoch 15/50\n",
      "493/493 [==============================] - 29s 58ms/step - loss: 1.4429 - accuracy: 0.6012\n",
      "Epoch 16/50\n",
      "493/493 [==============================] - 29s 58ms/step - loss: 1.2125 - accuracy: 0.6598\n",
      "Epoch 17/50\n",
      "493/493 [==============================] - 29s 59ms/step - loss: 1.0313 - accuracy: 0.7113\n",
      "Epoch 18/50\n",
      "493/493 [==============================] - 29s 59ms/step - loss: 0.8662 - accuracy: 0.7594\n",
      "Epoch 19/50\n",
      "493/493 [==============================] - 28s 56ms/step - loss: 0.7490 - accuracy: 0.7886\n",
      "Epoch 20/50\n",
      "493/493 [==============================] - 27s 55ms/step - loss: 0.6461 - accuracy: 0.8197\n",
      "Epoch 21/50\n",
      "493/493 [==============================] - 27s 55ms/step - loss: 0.5972 - accuracy: 0.8317\n",
      "Epoch 22/50\n",
      "493/493 [==============================] - 27s 55ms/step - loss: 0.5187 - accuracy: 0.8527\n",
      "Epoch 23/50\n",
      "493/493 [==============================] - 27s 55ms/step - loss: 0.4697 - accuracy: 0.8654\n",
      "Epoch 24/50\n",
      "493/493 [==============================] - 27s 55ms/step - loss: 0.4441 - accuracy: 0.8705\n",
      "Epoch 25/50\n",
      "493/493 [==============================] - 27s 55ms/step - loss: 0.3987 - accuracy: 0.8868\n",
      "Epoch 26/50\n",
      "493/493 [==============================] - 27s 54ms/step - loss: 0.3320 - accuracy: 0.9074\n",
      "Epoch 27/50\n",
      "493/493 [==============================] - 30s 62ms/step - loss: 0.3312 - accuracy: 0.9054\n",
      "Epoch 28/50\n",
      "493/493 [==============================] - 29s 58ms/step - loss: 0.2945 - accuracy: 0.9179\n",
      "Epoch 29/50\n",
      "493/493 [==============================] - 29s 58ms/step - loss: 0.2968 - accuracy: 0.9150\n",
      "Epoch 30/50\n",
      "493/493 [==============================] - 28s 57ms/step - loss: 0.2864 - accuracy: 0.9183\n",
      "Epoch 31/50\n",
      "493/493 [==============================] - 28s 58ms/step - loss: 0.2377 - accuracy: 0.9315\n",
      "Epoch 32/50\n",
      "493/493 [==============================] - 28s 57ms/step - loss: 0.2436 - accuracy: 0.9300\n",
      "Epoch 33/50\n",
      "493/493 [==============================] - 28s 57ms/step - loss: 0.2282 - accuracy: 0.9362\n",
      "Epoch 34/50\n",
      "493/493 [==============================] - 28s 58ms/step - loss: 0.2146 - accuracy: 0.9388\n",
      "Epoch 35/50\n",
      "493/493 [==============================] - 28s 58ms/step - loss: 0.2374 - accuracy: 0.9302\n",
      "Epoch 36/50\n",
      "493/493 [==============================] - 28s 58ms/step - loss: 0.1930 - accuracy: 0.9434\n",
      "Epoch 37/50\n",
      "493/493 [==============================] - 28s 58ms/step - loss: 0.1956 - accuracy: 0.9463\n",
      "Epoch 38/50\n",
      "493/493 [==============================] - 28s 57ms/step - loss: 0.2061 - accuracy: 0.9379\n",
      "Epoch 39/50\n",
      "493/493 [==============================] - 28s 57ms/step - loss: 0.1856 - accuracy: 0.9445\n",
      "Epoch 40/50\n",
      "493/493 [==============================] - 28s 56ms/step - loss: 0.1686 - accuracy: 0.9521\n",
      "Epoch 41/50\n",
      "493/493 [==============================] - 27s 54ms/step - loss: 0.1850 - accuracy: 0.9464\n",
      "Epoch 42/50\n",
      "493/493 [==============================] - 27s 55ms/step - loss: 0.1727 - accuracy: 0.9501\n",
      "Epoch 43/50\n",
      "493/493 [==============================] - 30s 61ms/step - loss: 0.1500 - accuracy: 0.9562\n",
      "Epoch 44/50\n",
      "493/493 [==============================] - 29s 58ms/step - loss: 0.1446 - accuracy: 0.9581\n",
      "Epoch 45/50\n",
      "493/493 [==============================] - 28s 58ms/step - loss: 0.1310 - accuracy: 0.9640\n",
      "Epoch 46/50\n",
      "493/493 [==============================] - 29s 58ms/step - loss: 0.1770 - accuracy: 0.9485\n",
      "Epoch 47/50\n",
      "493/493 [==============================] - 28s 57ms/step - loss: 0.1681 - accuracy: 0.9497\n",
      "Epoch 48/50\n",
      "493/493 [==============================] - 28s 57ms/step - loss: 0.1389 - accuracy: 0.9590\n",
      "Epoch 49/50\n",
      "493/493 [==============================] - 28s 57ms/step - loss: 0.1234 - accuracy: 0.9642\n",
      "Epoch 50/50\n",
      "493/493 [==============================] - 29s 59ms/step - loss: 0.1378 - accuracy: 0.9594\n"
     ]
    },
    {
     "data": {
      "text/plain": [
       "<keras.callbacks.History at 0x2b6da15b790>"
      ]
     },
     "execution_count": 10,
     "metadata": {},
     "output_type": "execute_result"
    }
   ],
   "source": [
    "from tensorflow.keras.models import Sequential\n",
    "from tensorflow.keras.layers import Dense, LSTM, Dropout\n",
    "\n",
    "model = Sequential()\n",
    "model.add(LSTM(128, return_sequences=True, input_shape=(40, 1)))\n",
    "model.add(Dropout(0.2))\n",
    "model.add(LSTM(128))\n",
    "model.add(Dense(64))\n",
    "model.add(Dense(len(set(labels)), activation='softmax'))\n",
    "\n",
    "# Compile the model\n",
    "model.compile(loss='sparse_categorical_crossentropy', \n",
    "              optimizer='adam', \n",
    "              metrics=['accuracy'])\n",
    "\n",
    "# Convert labels to integer format\n",
    "label_dict = {label: i for i, label in enumerate(set(labels))}\n",
    "int_labels = [label_dict[label] for label in labels]\n",
    "\n",
    "# Train the model\n",
    "model.fit(np.array(features), np.array(int_labels), epochs=50)"
   ]
  },
  {
   "cell_type": "code",
   "execution_count": 12,
   "metadata": {},
   "outputs": [],
   "source": [
    "model.save('Model1.h5')\n",
    "import json\n",
    "\n",
    "# Save label_dict to a json file\n",
    "with open('label_dict.json', 'w') as f:\n",
    "    json.dump(label_dict, f)"
   ]
  },
  {
   "cell_type": "code",
   "execution_count": null,
   "metadata": {},
   "outputs": [],
   "source": []
  }
 ],
 "metadata": {
  "kernelspec": {
   "display_name": "Python 3",
   "language": "python",
   "name": "python3"
  },
  "language_info": {
   "codemirror_mode": {
    "name": "ipython",
    "version": 3
   },
   "file_extension": ".py",
   "mimetype": "text/x-python",
   "name": "python",
   "nbconvert_exporter": "python",
   "pygments_lexer": "ipython3",
   "version": "3.11.2"
  },
  "orig_nbformat": 4
 },
 "nbformat": 4,
 "nbformat_minor": 2
}
